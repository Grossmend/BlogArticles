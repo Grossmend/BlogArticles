{
 "cells": [
  {
   "cell_type": "markdown",
   "metadata": {},
   "source": [
    "Реализация популярных функций потерь на PyTorch и NumPy\n",
    "\n",
    "- L1Loss\n",
    "- MSELoss\n",
    "- CrossEntropyLoss\n",
    "- NLLLoss\n",
    "- BCELoss\n",
    "- BCEWithLogitsLoss\n",
    "- MarginRankingLoss\n",
    "- SmoothL1Loss"
   ]
  },
  {
   "cell_type": "code",
   "execution_count": 1,
   "metadata": {},
   "outputs": [],
   "source": [
    "import numpy as np\n",
    "\n",
    "import torch\n",
    "import torch.nn as nn"
   ]
  },
  {
   "cell_type": "code",
   "execution_count": 2,
   "metadata": {},
   "outputs": [
    {
     "data": {
      "text/plain": [
       "'1.16.5'"
      ]
     },
     "execution_count": 2,
     "metadata": {},
     "output_type": "execute_result"
    }
   ],
   "source": [
    "np.__version__"
   ]
  },
  {
   "cell_type": "code",
   "execution_count": 3,
   "metadata": {},
   "outputs": [
    {
     "data": {
      "text/plain": [
       "'1.3.1'"
      ]
     },
     "execution_count": 3,
     "metadata": {},
     "output_type": "execute_result"
    }
   ],
   "source": [
    "torch.__version__"
   ]
  },
  {
   "cell_type": "markdown",
   "metadata": {},
   "source": [
    "### L1Loss"
   ]
  },
  {
   "cell_type": "code",
   "execution_count": 4,
   "metadata": {},
   "outputs": [
    {
     "name": "stdout",
     "output_type": "stream",
     "text": [
      "y_pred:\n",
      "tensor([[-0.5336, -0.4907,  0.2312],\n",
      "        [-0.1624,  2.0201,  2.2566]])\n",
      "y_true:\n",
      "tensor([[ 0.4239, -0.8511, -1.6998],\n",
      "        [-0.9975, -0.1470,  0.7654]])\n"
     ]
    }
   ],
   "source": [
    "y_pred = torch.randn(2,3)\n",
    "y_true = torch.randn(2,3)\n",
    "\n",
    "print(f\"y_pred:\\n{y_pred}\")\n",
    "print(f\"y_true:\\n{y_true}\")"
   ]
  },
  {
   "cell_type": "code",
   "execution_count": 5,
   "metadata": {},
   "outputs": [
    {
     "name": "stdout",
     "output_type": "stream",
     "text": [
      "PyTorch loss: 1.2903779745101929\n"
     ]
    }
   ],
   "source": [
    "# PyTorch\n",
    "\n",
    "torch_loss = nn.L1Loss()(y_pred, y_true)\n",
    "\n",
    "print(f\"PyTorch loss: {torch_loss}\")"
   ]
  },
  {
   "cell_type": "code",
   "execution_count": 6,
   "metadata": {},
   "outputs": [
    {
     "name": "stdout",
     "output_type": "stream",
     "text": [
      "PyTorch loss: 1.2903779745101929\n"
     ]
    }
   ],
   "source": [
    "# NumPy\n",
    "\n",
    "np_loss = np.abs(y_pred.numpy() - y_true.numpy()).mean()\n",
    "\n",
    "print(f\"PyTorch loss: {np_loss}\")"
   ]
  },
  {
   "cell_type": "markdown",
   "metadata": {},
   "source": [
    "### MSELoss"
   ]
  },
  {
   "cell_type": "code",
   "execution_count": 7,
   "metadata": {},
   "outputs": [
    {
     "name": "stdout",
     "output_type": "stream",
     "text": [
      "y_pred:\n",
      "tensor([[ 0.0861, -0.1074, -0.3204],\n",
      "        [-1.7932,  0.5214, -0.2649]])\n",
      "y_true:\n",
      "tensor([[ 0.0359,  0.5286,  0.3880],\n",
      "        [ 1.2208,  0.1837, -1.7642]])\n"
     ]
    }
   ],
   "source": [
    "y_pred = torch.randn(2, 3)\n",
    "y_true = torch.randn(2, 3)\n",
    "\n",
    "print(f\"y_pred:\\n{y_pred}\")\n",
    "print(f\"y_true:\\n{y_true}\")"
   ]
  },
  {
   "cell_type": "code",
   "execution_count": 8,
   "metadata": {},
   "outputs": [
    {
     "name": "stdout",
     "output_type": "stream",
     "text": [
      "PyTorch loss: 2.0592100620269775\n"
     ]
    }
   ],
   "source": [
    "# PyTorch\n",
    "\n",
    "torch_loss = nn.MSELoss()(y_pred, y_true)\n",
    "\n",
    "print(f\"PyTorch loss: {torch_loss}\")"
   ]
  },
  {
   "cell_type": "code",
   "execution_count": 9,
   "metadata": {},
   "outputs": [
    {
     "name": "stdout",
     "output_type": "stream",
     "text": [
      "PyTorch loss: 2.0592100620269775\n"
     ]
    }
   ],
   "source": [
    "# NumPy\n",
    "\n",
    "np_loss = ((y_pred.numpy() - y_true.numpy())**2).mean()\n",
    "\n",
    "print(f\"PyTorch loss: {np_loss}\")"
   ]
  },
  {
   "cell_type": "markdown",
   "metadata": {},
   "source": [
    "### CrossEntropyLoss"
   ]
  },
  {
   "cell_type": "code",
   "execution_count": 10,
   "metadata": {},
   "outputs": [
    {
     "name": "stdout",
     "output_type": "stream",
     "text": [
      "x:\n",
      "tensor([[-0.3035, -0.8180, -1.9438,  0.6326],\n",
      "        [-2.8267, -0.7586, -0.4638,  0.7497]])\n",
      "y:\n",
      "tensor([2, 3])\n"
     ]
    }
   ],
   "source": [
    "x = torch.randn(2, 4)\n",
    "y = torch.LongTensor(2).random_(4)\n",
    "\n",
    "print(f\"x:\\n{x}\")\n",
    "print(f\"y:\\n{y}\")"
   ]
  },
  {
   "cell_type": "code",
   "execution_count": 11,
   "metadata": {},
   "outputs": [
    {
     "name": "stdout",
     "output_type": "stream",
     "text": [
      "PyTorch loss: 1.7722333669662476\n"
     ]
    }
   ],
   "source": [
    "# PyTorch\n",
    "\n",
    "torch_loss = nn.CrossEntropyLoss()(x, y)\n",
    "\n",
    "print(f\"PyTorch loss: {torch_loss}\")"
   ]
  },
  {
   "cell_type": "code",
   "execution_count": 12,
   "metadata": {},
   "outputs": [
    {
     "name": "stdout",
     "output_type": "stream",
     "text": [
      "PyTorch loss: 1.772233486175537\n"
     ]
    }
   ],
   "source": [
    "# NumPy\n",
    "\n",
    "if isinstance(x, torch.Tensor):\n",
    "    x = x.numpy()\n",
    "if isinstance(y, torch.Tensor):\n",
    "    y = y.numpy()\n",
    "\n",
    "arr = []\n",
    "for k in range(len(x)):\n",
    "    arr.append(-np.log(np.exp(x[k][y[k]]) / np.exp(x[k]).sum()))\n",
    "\n",
    "print(f\"PyTorch loss: {np.mean(arr)}\")"
   ]
  },
  {
   "cell_type": "markdown",
   "metadata": {},
   "source": [
    "### NLLLoss"
   ]
  },
  {
   "cell_type": "code",
   "execution_count": 13,
   "metadata": {},
   "outputs": [
    {
     "name": "stdout",
     "output_type": "stream",
     "text": [
      "x:\n",
      "tensor([[-0.7438, -3.4877, -2.3233, -0.9260],\n",
      "        [-0.4407, -2.4457, -1.8125, -2.2395],\n",
      "        [-1.3698, -0.6933, -2.2964, -1.9292]])\n",
      "y:\n",
      "tensor([1, 1, 3])\n"
     ]
    }
   ],
   "source": [
    "x_ = torch.randn(3, 4)\n",
    "x = nn.LogSoftmax(dim=1)(x_)\n",
    "\n",
    "y = torch.LongTensor(3).random_(4)\n",
    "\n",
    "print(f\"x:\\n{x}\")\n",
    "print(f\"y:\\n{y}\")"
   ]
  },
  {
   "cell_type": "code",
   "execution_count": 14,
   "metadata": {},
   "outputs": [
    {
     "name": "stdout",
     "output_type": "stream",
     "text": [
      "PyTorch loss: 2.6208689212799072\n"
     ]
    }
   ],
   "source": [
    "# PyTorch\n",
    "\n",
    "torch_loss = nn.NLLLoss()(x, y)\n",
    "\n",
    "print(f\"PyTorch loss: {torch_loss}\")"
   ]
  },
  {
   "cell_type": "code",
   "execution_count": 15,
   "metadata": {},
   "outputs": [
    {
     "name": "stdout",
     "output_type": "stream",
     "text": [
      "PyTorch loss: 2.6208689212799072\n"
     ]
    }
   ],
   "source": [
    "# NumPy\n",
    "\n",
    "arr = []\n",
    "for k in range(len(x)):\n",
    "    arr.append(-x[k][y[k]])\n",
    "    \n",
    "np_loss = np.mean(arr)    \n",
    "print(f\"PyTorch loss: {np_loss}\")"
   ]
  },
  {
   "cell_type": "markdown",
   "metadata": {},
   "source": [
    "### BCELoss"
   ]
  },
  {
   "cell_type": "code",
   "execution_count": 16,
   "metadata": {},
   "outputs": [
    {
     "name": "stdout",
     "output_type": "stream",
     "text": [
      "x:\n",
      "tensor([[0.8322, 0.2102, 0.4196, 0.1992],\n",
      "        [0.6541, 0.7871, 0.9964, 0.0181],\n",
      "        [0.2712, 0.8633, 0.6485, 0.2386]])\n",
      "y:\n",
      "tensor([[0., 1., 1., 1.],\n",
      "        [1., 1., 0., 1.],\n",
      "        [0., 0., 0., 0.]])\n"
     ]
    }
   ],
   "source": [
    "x = torch.rand(3, 4)\n",
    "\n",
    "y = torch.empty(x.size()).random_(2)\n",
    "\n",
    "print(f\"x:\\n{x}\")\n",
    "print(f\"y:\\n{y}\")"
   ]
  },
  {
   "cell_type": "code",
   "execution_count": 17,
   "metadata": {},
   "outputs": [
    {
     "name": "stdout",
     "output_type": "stream",
     "text": [
      "PyTorch loss: 1.6466469764709473\n"
     ]
    }
   ],
   "source": [
    "# PyTorch\n",
    "\n",
    "torch_loss = nn.BCELoss()(x, y)\n",
    "\n",
    "print(f\"PyTorch loss: {torch_loss}\")"
   ]
  },
  {
   "cell_type": "code",
   "execution_count": 18,
   "metadata": {},
   "outputs": [
    {
     "name": "stdout",
     "output_type": "stream",
     "text": [
      "PyTorch loss: 1.6466470747390496\n"
     ]
    }
   ],
   "source": [
    "# NumPy\n",
    "\n",
    "if isinstance(x, torch.Tensor):\n",
    "    x = x.numpy()\n",
    "if isinstance(y, torch.Tensor):\n",
    "    y = y.numpy()\n",
    "\n",
    "arr = []\n",
    "for i in range(len(x)):\n",
    "    iarr = []\n",
    "    for j in range(len(x[i])):\n",
    "        iarr.append(-np.log(x[i][j]) if y[i][j]==1 else -np.log(1-x[i][j]))\n",
    "    arr.append(iarr)\n",
    "torch_loss = np.mean(arr)\n",
    "\n",
    "print(f\"PyTorch loss: {torch_loss}\")"
   ]
  },
  {
   "cell_type": "markdown",
   "metadata": {},
   "source": [
    "### BCEWithLogitsLoss"
   ]
  },
  {
   "cell_type": "code",
   "execution_count": 19,
   "metadata": {},
   "outputs": [
    {
     "name": "stdout",
     "output_type": "stream",
     "text": [
      "x:\n",
      "tensor([[0.5384, 0.5518, 0.0852, 0.2603],\n",
      "        [0.9861, 0.0202, 0.4962, 0.1364],\n",
      "        [0.8371, 0.7375, 0.2028, 0.5724]])\n",
      "y:\n",
      "tensor([[0., 0., 0., 1.],\n",
      "        [1., 0., 1., 1.],\n",
      "        [0., 0., 1., 0.]])\n"
     ]
    }
   ],
   "source": [
    "x = torch.rand(3, 4)\n",
    "y = torch.FloatTensor(x.size()).random_(2)\n",
    "\n",
    "print(f\"x:\\n{x}\")\n",
    "print(f\"y:\\n{y}\")"
   ]
  },
  {
   "cell_type": "code",
   "execution_count": 20,
   "metadata": {},
   "outputs": [
    {
     "name": "stdout",
     "output_type": "stream",
     "text": [
      "PyTorch loss: 0.7814812064170837\n"
     ]
    }
   ],
   "source": [
    "# PyTorch\n",
    "\n",
    "torch_loss = nn.BCEWithLogitsLoss()(x, y)\n",
    "\n",
    "print(f\"PyTorch loss: {torch_loss}\")"
   ]
  },
  {
   "cell_type": "code",
   "execution_count": 21,
   "metadata": {},
   "outputs": [
    {
     "name": "stdout",
     "output_type": "stream",
     "text": [
      "PyTorch loss: 0.7814811944753589\n"
     ]
    }
   ],
   "source": [
    "# NumPy\n",
    "\n",
    "if isinstance(x, torch.Tensor):\n",
    "    x = x.numpy()\n",
    "    # just apply sigmoid\n",
    "    x = 1/(1 + np.exp(-x)) \n",
    "if isinstance(y, torch.Tensor):\n",
    "    y = y.numpy()\n",
    "\n",
    "arr = []\n",
    "for i in range(len(x)):\n",
    "    iarr = []\n",
    "    for j in range(len(x[i])):\n",
    "        iarr.append(-np.log(x[i][j]) if y[i][j]==1 else -np.log(1-x[i][j]))\n",
    "    arr.append(iarr)\n",
    "torch_loss = np.mean(arr)\n",
    "\n",
    "print(f\"PyTorch loss: {torch_loss}\")"
   ]
  },
  {
   "cell_type": "markdown",
   "metadata": {},
   "source": [
    "### MarginRankingLoss"
   ]
  },
  {
   "cell_type": "code",
   "execution_count": 22,
   "metadata": {},
   "outputs": [
    {
     "name": "stdout",
     "output_type": "stream",
     "text": [
      "x1:\n",
      "tensor([ 0.4836,  0.6102, -0.5548])\n",
      "x2:\n",
      "tensor([-0.1121,  0.7968, -1.0851])\n",
      "y:\n",
      "tensor([1., 1., 1.])\n"
     ]
    }
   ],
   "source": [
    "x1 = torch.randn(3)\n",
    "x2 = torch.randn(3)\n",
    "y = torch.FloatTensor(np.random.choice([1, -1], 3))\n",
    "\n",
    "print(f\"x1:\\n{x1}\")\n",
    "print(f\"x2:\\n{x2}\")\n",
    "print(f\"y:\\n{y}\")"
   ]
  },
  {
   "cell_type": "code",
   "execution_count": 23,
   "metadata": {},
   "outputs": [
    {
     "name": "stdout",
     "output_type": "stream",
     "text": [
      "PyTorch loss: 0.09553644061088562\n"
     ]
    }
   ],
   "source": [
    "# PyTorch\n",
    "\n",
    "torch_loss = nn.MarginRankingLoss(margin=0.1)(x1, x2, y)\n",
    "\n",
    "print(f\"PyTorch loss: {torch_loss}\")"
   ]
  },
  {
   "cell_type": "code",
   "execution_count": 24,
   "metadata": {},
   "outputs": [
    {
     "name": "stdout",
     "output_type": "stream",
     "text": [
      "PyTorch loss: 0.0955364425977071\n"
     ]
    }
   ],
   "source": [
    "# NumPy\n",
    "\n",
    "margin=0.1\n",
    "\n",
    "if isinstance(x1, torch.Tensor):\n",
    "    x1 = x1.numpy()\n",
    "if isinstance(x2 , torch.Tensor):\n",
    "    x2 = x2.numpy()\n",
    "if isinstance(y, torch.Tensor):\n",
    "    y = y.numpy()\n",
    "    \n",
    "arr = []\n",
    "for i in range(len(x1)):\n",
    "    arr.append(max(0, -y[i]*(x1[i]-x2[i]) + margin))\n",
    "    \n",
    "torch_loss = np.mean(arr)\n",
    "\n",
    "print(f\"PyTorch loss: {torch_loss}\")"
   ]
  },
  {
   "cell_type": "markdown",
   "metadata": {},
   "source": [
    "### SmoothL1Loss"
   ]
  },
  {
   "cell_type": "code",
   "execution_count": 25,
   "metadata": {},
   "outputs": [
    {
     "name": "stdout",
     "output_type": "stream",
     "text": [
      "x:\n",
      "tensor([[-0.9299, -0.6225,  1.5061],\n",
      "        [ 0.3645,  0.0165,  0.8457]])\n",
      "y:\n",
      "tensor([[ 0.6433, -0.3175, -1.6047],\n",
      "        [ 1.3342, -0.0448, -1.0458]])\n"
     ]
    }
   ],
   "source": [
    "x = torch.randn(2, 3)\n",
    "y = torch.randn(2, 3)\n",
    "\n",
    "print(f\"x:\\n{x}\")\n",
    "print(f\"y:\\n{y}\")"
   ]
  },
  {
   "cell_type": "code",
   "execution_count": 26,
   "metadata": {},
   "outputs": [
    {
     "name": "stdout",
     "output_type": "stream",
     "text": [
      "PyTorch loss: 0.9323527216911316\n"
     ]
    }
   ],
   "source": [
    "# PyTorch\n",
    "\n",
    "torch_loss = nn.SmoothL1Loss()(x, y)\n",
    "\n",
    "print(f\"PyTorch loss: {torch_loss}\")"
   ]
  },
  {
   "cell_type": "code",
   "execution_count": 27,
   "metadata": {},
   "outputs": [
    {
     "name": "stdout",
     "output_type": "stream",
     "text": [
      "PyTorch loss: 0.932352750377305\n"
     ]
    }
   ],
   "source": [
    "# NumPy\n",
    "\n",
    "def smoothl1loss(x, y):\n",
    "    if abs(x-y) < 1: return 1 / 2 * (x - y)**2\n",
    "    else: return abs(x-y) -1 / 2\n",
    "\n",
    "if isinstance(x, torch.Tensor):\n",
    "    x = x.numpy()\n",
    "if isinstance(y, torch.Tensor):\n",
    "    y = y.numpy()\n",
    "\n",
    "arr = []\n",
    "for i in range(len(x)):\n",
    "    iarr=[]\n",
    "    for j in range(len(x[i])):\n",
    "        iarr.append(smoothl1loss(x[i][j], y[i][j]))\n",
    "    arr.append(iarr)\n",
    "    \n",
    "torch_loss = np.mean(arr)\n",
    "\n",
    "print(f\"PyTorch loss: {torch_loss}\")"
   ]
  },
  {
   "cell_type": "code",
   "execution_count": null,
   "metadata": {},
   "outputs": [],
   "source": []
  }
 ],
 "metadata": {
  "kernelspec": {
   "display_name": "Python 3",
   "language": "python",
   "name": "python3"
  },
  "language_info": {
   "codemirror_mode": {
    "name": "ipython",
    "version": 3
   },
   "file_extension": ".py",
   "mimetype": "text/x-python",
   "name": "python",
   "nbconvert_exporter": "python",
   "pygments_lexer": "ipython3",
   "version": "3.6.9"
  }
 },
 "nbformat": 4,
 "nbformat_minor": 4
}
